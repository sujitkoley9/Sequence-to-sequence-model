{
  "nbformat": 4,
  "nbformat_minor": 0,
  "metadata": {
    "kernelspec": {
      "name": "python3",
      "display_name": "Python 3"
    },
    "language_info": {
      "codemirror_mode": {
        "name": "ipython",
        "version": 3
      },
      "file_extension": ".py",
      "mimetype": "text/x-python",
      "name": "python",
      "nbconvert_exporter": "python",
      "pygments_lexer": "ipython3",
      "version": "3.6.4"
    },
    "colab": {
      "name": "english-to-hindi-neural-machine-translation.ipynb",
      "provenance": [],
      "toc_visible": true,
      "include_colab_link": true
    },
    "accelerator": "GPU"
  },
  "cells": [
    {
      "cell_type": "markdown",
      "metadata": {
        "id": "view-in-github",
        "colab_type": "text"
      },
      "source": [
        "<a href=\"https://colab.research.google.com/github/sujitkoley9/Sequence-to-sequence-model/blob/master/english_to_hindi_neural_machine_translation.ipynb\" target=\"_parent\"><img src=\"https://colab.research.google.com/assets/colab-badge.svg\" alt=\"Open In Colab\"/></a>"
      ]
    },
    {
      "cell_type": "markdown",
      "metadata": {
        "id": "yxo-ndQgD3Pl",
        "colab_type": "text"
      },
      "source": [
        "<b>Important Link:</b>\n",
        "1. https://www.youtube.com/watch?v=QuELiw8tbx8&feature=youtu.be&list=PL3FW7Lu3i5Jsnh1rnUwq_TcylNr7EkRe6&t=1190\n",
        "2. https://medium.com/analytics-vidhya/machine-translation-encoder-decoder-model-7e4867377161\n",
        "\n"
      ]
    },
    {
      "cell_type": "code",
      "metadata": {
        "_cell_guid": "b1076dfc-b9ad-4769-8c92-a6c4dae69d19",
        "_uuid": "8f2839f25d086af736a60e9eeb907d3b93b6e0e5",
        "id": "dwAOBZki-Qoo",
        "colab_type": "code",
        "colab": {}
      },
      "source": [
        "\n",
        "import numpy as np # linear algebra\n",
        "import pandas as pd # data processing, CSV file I/O (e.g. pd.read_csv)\n",
        "\n",
        "# Input data files are available in the \"../input/\" directory.\n",
        "# For example, running this (by clicking run or pressing Shift+Enter) will list the files in the input directory\n",
        "\n",
        "import os\n",
        "import string\n",
        "from string import digits\n",
        "import matplotlib.pyplot as plt\n",
        "%matplotlib inline\n",
        "import re\n",
        "import io\n",
        "\n",
        "import seaborn as sns\n",
        "from sklearn.utils import shuffle\n",
        "from sklearn.model_selection import train_test_split\n",
        "from tensorflow.keras.layers import Input, LSTM, Embedding, Dense\n",
        "from tensorflow.keras.models import Model"
      ],
      "execution_count": 0,
      "outputs": []
    },
    {
      "cell_type": "code",
      "metadata": {
        "_cell_guid": "79c7e3d0-c299-4dcb-8224-4455121ee9b0",
        "_uuid": "d629ff2d2480ee46fbb7e2d37f6b5fab8052498a",
        "id": "mYOp7WWq-Qoz",
        "colab_type": "code",
        "colab": {}
      },
      "source": [
        "lines=pd.read_csv(\"Hindi_English_Truncated_Corpus.csv\",encoding='utf-8')"
      ],
      "execution_count": 0,
      "outputs": []
    },
    {
      "cell_type": "code",
      "metadata": {
        "id": "O5tNSnTa-Qo8",
        "colab_type": "code",
        "colab": {}
      },
      "source": [
        "lines=lines[lines['source']=='ted']"
      ],
      "execution_count": 0,
      "outputs": []
    },
    {
      "cell_type": "code",
      "metadata": {
        "id": "yP9Kj20O-QpB",
        "colab_type": "code",
        "colab": {
          "base_uri": "https://localhost:8080/",
          "height": 648
        },
        "outputId": "2a158fd6-10e7-42c5-81a9-951655e84794"
      },
      "source": [
        "lines.head(20)"
      ],
      "execution_count": 11,
      "outputs": [
        {
          "output_type": "execute_result",
          "data": {
            "text/html": [
              "<div>\n",
              "<style scoped>\n",
              "    .dataframe tbody tr th:only-of-type {\n",
              "        vertical-align: middle;\n",
              "    }\n",
              "\n",
              "    .dataframe tbody tr th {\n",
              "        vertical-align: top;\n",
              "    }\n",
              "\n",
              "    .dataframe thead th {\n",
              "        text-align: right;\n",
              "    }\n",
              "</style>\n",
              "<table border=\"1\" class=\"dataframe\">\n",
              "  <thead>\n",
              "    <tr style=\"text-align: right;\">\n",
              "      <th></th>\n",
              "      <th>source</th>\n",
              "      <th>english_sentence</th>\n",
              "      <th>hindi_sentence</th>\n",
              "    </tr>\n",
              "  </thead>\n",
              "  <tbody>\n",
              "    <tr>\n",
              "      <th>0</th>\n",
              "      <td>ted</td>\n",
              "      <td>politicians do not have permission to do what ...</td>\n",
              "      <td>राजनीतिज्ञों के पास जो कार्य करना चाहिए, वह कर...</td>\n",
              "    </tr>\n",
              "    <tr>\n",
              "      <th>1</th>\n",
              "      <td>ted</td>\n",
              "      <td>I'd like to tell you about one such child,</td>\n",
              "      <td>मई आपको ऐसे ही एक बच्चे के बारे में बताना चाहू...</td>\n",
              "    </tr>\n",
              "    <tr>\n",
              "      <th>3</th>\n",
              "      <td>ted</td>\n",
              "      <td>what we really mean is that they're bad at not...</td>\n",
              "      <td>हम ये नहीं कहना चाहते कि वो ध्यान नहीं दे पाते</td>\n",
              "    </tr>\n",
              "    <tr>\n",
              "      <th>7</th>\n",
              "      <td>ted</td>\n",
              "      <td>And who are we to say, even, that they are wrong</td>\n",
              "      <td>और हम होते कौन हैं यह कहने भी वाले कि वे गलत हैं</td>\n",
              "    </tr>\n",
              "    <tr>\n",
              "      <th>13</th>\n",
              "      <td>ted</td>\n",
              "      <td>So there is some sort of justice</td>\n",
              "      <td>तो वहाँ न्याय है</td>\n",
              "    </tr>\n",
              "    <tr>\n",
              "      <th>23</th>\n",
              "      <td>ted</td>\n",
              "      <td>This changed slowly</td>\n",
              "      <td>धीरे धीरे ये सब बदला</td>\n",
              "    </tr>\n",
              "    <tr>\n",
              "      <th>26</th>\n",
              "      <td>ted</td>\n",
              "      <td>were being produced.</td>\n",
              "      <td>उत्पन्न नहीं कि जाती थी.</td>\n",
              "    </tr>\n",
              "    <tr>\n",
              "      <th>30</th>\n",
              "      <td>ted</td>\n",
              "      <td>And you can see, this LED is going to glow.</td>\n",
              "      <td>और जैसा आप देख रहे है, ये एल.ई.डी. जल उठेगी।</td>\n",
              "    </tr>\n",
              "    <tr>\n",
              "      <th>32</th>\n",
              "      <td>ted</td>\n",
              "      <td>to turn on the lights or to bring him a glass ...</td>\n",
              "      <td>लाईट जलाने के लिए या उनके लिए पानी लाने के लिए,</td>\n",
              "    </tr>\n",
              "    <tr>\n",
              "      <th>35</th>\n",
              "      <td>ted</td>\n",
              "      <td>Can you imagine saying that?</td>\n",
              "      <td>क्या आप ये कल्पना कर सकते है</td>\n",
              "    </tr>\n",
              "    <tr>\n",
              "      <th>37</th>\n",
              "      <td>ted</td>\n",
              "      <td>Three: this is a good road in - right near whe...</td>\n",
              "      <td>तीसरी: ये हमारी फ़ैक्ट्री के पास की एक अपेक्षा...</td>\n",
              "    </tr>\n",
              "    <tr>\n",
              "      <th>39</th>\n",
              "      <td>ted</td>\n",
              "      <td>What's going on?”</td>\n",
              "      <td>क्या हो रहा है ये?”</td>\n",
              "    </tr>\n",
              "    <tr>\n",
              "      <th>42</th>\n",
              "      <td>ted</td>\n",
              "      <td>There are also financial reforms in rural China.</td>\n",
              "      <td>ग्रामीण चीन में आर्थिक नवीनीकरण हुये हैं।</td>\n",
              "    </tr>\n",
              "    <tr>\n",
              "      <th>49</th>\n",
              "      <td>ted</td>\n",
              "      <td>the family planning started in Vietnam and the...</td>\n",
              "      <td>वियतनाम में परिवार योजना शुरू हो गई और उनके पर...</td>\n",
              "    </tr>\n",
              "    <tr>\n",
              "      <th>51</th>\n",
              "      <td>ted</td>\n",
              "      <td>I mean, at that time, trust me,</td>\n",
              "      <td>मेरा मतलब, उस समय, सही मानिए,</td>\n",
              "    </tr>\n",
              "    <tr>\n",
              "      <th>53</th>\n",
              "      <td>ted</td>\n",
              "      <td>Not only that,</td>\n",
              "      <td>बस वही नहीं,</td>\n",
              "    </tr>\n",
              "    <tr>\n",
              "      <th>55</th>\n",
              "      <td>ted</td>\n",
              "      <td>humans destroyed the commons that they depende...</td>\n",
              "      <td>मानवों ने उन ही साझे संसाधनों को नष्ट किया जिन...</td>\n",
              "    </tr>\n",
              "    <tr>\n",
              "      <th>56</th>\n",
              "      <td>ted</td>\n",
              "      <td>Almost goes to E, but otherwise the play would...</td>\n",
              "      <td>रचना करीब करीब ई तक जाती है, मगर तब तो नाटक ख़...</td>\n",
              "    </tr>\n",
              "    <tr>\n",
              "      <th>63</th>\n",
              "      <td>ted</td>\n",
              "      <td>So I want to share with you a couple key insights</td>\n",
              "      <td>मैं आपके साथ कुछ मुख्य सूत्र बाँटना चाहता हूँ</td>\n",
              "    </tr>\n",
              "    <tr>\n",
              "      <th>66</th>\n",
              "      <td>ted</td>\n",
              "      <td>Many countries in the [unclear], they need leg...</td>\n",
              "      <td>[अस्पष्ट] के बहुत सारे राष्ट्रों को मान्यता चा...</td>\n",
              "    </tr>\n",
              "  </tbody>\n",
              "</table>\n",
              "</div>"
            ],
            "text/plain": [
              "   source  ...                                     hindi_sentence\n",
              "0     ted  ...  राजनीतिज्ञों के पास जो कार्य करना चाहिए, वह कर...\n",
              "1     ted  ...  मई आपको ऐसे ही एक बच्चे के बारे में बताना चाहू...\n",
              "3     ted  ...     हम ये नहीं कहना चाहते कि वो ध्यान नहीं दे पाते\n",
              "7     ted  ...   और हम होते कौन हैं यह कहने भी वाले कि वे गलत हैं\n",
              "13    ted  ...                                   तो वहाँ न्याय है\n",
              "23    ted  ...                               धीरे धीरे ये सब बदला\n",
              "26    ted  ...                           उत्पन्न नहीं कि जाती थी.\n",
              "30    ted  ...       और जैसा आप देख रहे है, ये एल.ई.डी. जल उठेगी।\n",
              "32    ted  ...    लाईट जलाने के लिए या उनके लिए पानी लाने के लिए,\n",
              "35    ted  ...                       क्या आप ये कल्पना कर सकते है\n",
              "37    ted  ...  तीसरी: ये हमारी फ़ैक्ट्री के पास की एक अपेक्षा...\n",
              "39    ted  ...                                क्या हो रहा है ये?”\n",
              "42    ted  ...          ग्रामीण चीन में आर्थिक नवीनीकरण हुये हैं।\n",
              "49    ted  ...  वियतनाम में परिवार योजना शुरू हो गई और उनके पर...\n",
              "51    ted  ...                      मेरा मतलब, उस समय, सही मानिए,\n",
              "53    ted  ...                                       बस वही नहीं,\n",
              "55    ted  ...  मानवों ने उन ही साझे संसाधनों को नष्ट किया जिन...\n",
              "56    ted  ...  रचना करीब करीब ई तक जाती है, मगर तब तो नाटक ख़...\n",
              "63    ted  ...      मैं आपके साथ कुछ मुख्य सूत्र बाँटना चाहता हूँ\n",
              "66    ted  ...  [अस्पष्ट] के बहुत सारे राष्ट्रों को मान्यता चा...\n",
              "\n",
              "[20 rows x 3 columns]"
            ]
          },
          "metadata": {
            "tags": []
          },
          "execution_count": 11
        }
      ]
    },
    {
      "cell_type": "code",
      "metadata": {
        "id": "RuXAhS_1-QpF",
        "colab_type": "code",
        "colab": {
          "base_uri": "https://localhost:8080/",
          "height": 90
        },
        "outputId": "07d256f4-8f71-461b-e7a9-2bbaa26ea58b"
      },
      "source": [
        "pd.isnull(lines).sum()"
      ],
      "execution_count": 12,
      "outputs": [
        {
          "output_type": "execute_result",
          "data": {
            "text/plain": [
              "source              0\n",
              "english_sentence    0\n",
              "hindi_sentence      0\n",
              "dtype: int64"
            ]
          },
          "metadata": {
            "tags": []
          },
          "execution_count": 12
        }
      ]
    },
    {
      "cell_type": "code",
      "metadata": {
        "id": "xxUQv3Kg-QpJ",
        "colab_type": "code",
        "colab": {}
      },
      "source": [
        "lines=lines[~pd.isnull(lines['english_sentence'])]"
      ],
      "execution_count": 0,
      "outputs": []
    },
    {
      "cell_type": "code",
      "metadata": {
        "id": "Y4LEp-Af-QpN",
        "colab_type": "code",
        "colab": {}
      },
      "source": [
        "lines.drop_duplicates(inplace=True)"
      ],
      "execution_count": 0,
      "outputs": []
    },
    {
      "cell_type": "markdown",
      "metadata": {
        "id": "1DJd0XtW-QpR",
        "colab_type": "text"
      },
      "source": [
        "* ### Let us pick any 25000 rows from the dataset."
      ]
    },
    {
      "cell_type": "code",
      "metadata": {
        "id": "WN3Y7SDv-QpS",
        "colab_type": "code",
        "colab": {
          "base_uri": "https://localhost:8080/",
          "height": 35
        },
        "outputId": "dedfd579-1958-4e21-f164-e88f40313048"
      },
      "source": [
        "lines=lines.sample(n=25000,random_state=42)\n",
        "lines.shape"
      ],
      "execution_count": 15,
      "outputs": [
        {
          "output_type": "execute_result",
          "data": {
            "text/plain": [
              "(25000, 3)"
            ]
          },
          "metadata": {
            "tags": []
          },
          "execution_count": 15
        }
      ]
    },
    {
      "cell_type": "code",
      "metadata": {
        "id": "OInCEl5k-QpW",
        "colab_type": "code",
        "colab": {}
      },
      "source": [
        "# Lowercase all characters\n",
        "lines['english_sentence']=lines['english_sentence'].apply(lambda x: x.lower())\n",
        "lines['hindi_sentence']=lines['hindi_sentence'].apply(lambda x: x.lower())"
      ],
      "execution_count": 0,
      "outputs": []
    },
    {
      "cell_type": "code",
      "metadata": {
        "id": "O_IfBlOX-Qpa",
        "colab_type": "code",
        "colab": {}
      },
      "source": [
        "# Remove quotes\n",
        "lines['english_sentence']=lines['english_sentence'].apply(lambda x: re.sub(\"'\", '', x))\n",
        "lines['hindi_sentence']=lines['hindi_sentence'].apply(lambda x: re.sub(\"'\", '', x))"
      ],
      "execution_count": 0,
      "outputs": []
    },
    {
      "cell_type": "code",
      "metadata": {
        "id": "0DkegQd3-Qpd",
        "colab_type": "code",
        "colab": {}
      },
      "source": [
        "exclude = set(string.punctuation) # Set of all special characters\n",
        "# Remove all the special characters\n",
        "lines['english_sentence']=lines['english_sentence'].apply(lambda x: ''.join(ch for ch in x if ch not in exclude))\n",
        "lines['hindi_sentence']=lines['hindi_sentence'].apply(lambda x: ''.join(ch for ch in x if ch not in exclude))"
      ],
      "execution_count": 0,
      "outputs": []
    },
    {
      "cell_type": "code",
      "metadata": {
        "id": "RCfdMPVV-Qpg",
        "colab_type": "code",
        "colab": {}
      },
      "source": [
        "# Remove all numbers from text\n",
        "remove_digits = str.maketrans('', '', digits)\n",
        "lines['english_sentence']=lines['english_sentence'].apply(lambda x: x.translate(remove_digits))\n",
        "lines['hindi_sentence']=lines['hindi_sentence'].apply(lambda x: x.translate(remove_digits))\n",
        "\n",
        "lines['hindi_sentence'] = lines['hindi_sentence'].apply(lambda x: re.sub(\"[२३०८१५७९४६]\", \"\", x))\n",
        "\n",
        "# Remove extra spaces\n",
        "lines['english_sentence']=lines['english_sentence'].apply(lambda x: x.strip())\n",
        "lines['hindi_sentence']=lines['hindi_sentence'].apply(lambda x: x.strip())\n",
        "lines['english_sentence']=lines['english_sentence'].apply(lambda x: re.sub(\" +\", \" \", x))\n",
        "lines['hindi_sentence']=lines['hindi_sentence'].apply(lambda x: re.sub(\" +\", \" \", x))\n"
      ],
      "execution_count": 0,
      "outputs": []
    },
    {
      "cell_type": "code",
      "metadata": {
        "id": "F0ENbtUi-Qpj",
        "colab_type": "code",
        "colab": {}
      },
      "source": [
        "# Add start and end tokens to target sequences\n",
        "lines['hindi_sentence'] = lines['hindi_sentence'].apply(lambda x : 'START_ '+ x + ' _END')"
      ],
      "execution_count": 0,
      "outputs": []
    },
    {
      "cell_type": "code",
      "metadata": {
        "id": "jcEAqx-k-Qpm",
        "colab_type": "code",
        "colab": {
          "base_uri": "https://localhost:8080/",
          "height": 233
        },
        "outputId": "2c23c851-dcef-4e74-984e-0a65033bbb2c"
      },
      "source": [
        "lines.head()"
      ],
      "execution_count": 22,
      "outputs": [
        {
          "output_type": "execute_result",
          "data": {
            "text/html": [
              "<div>\n",
              "<style scoped>\n",
              "    .dataframe tbody tr th:only-of-type {\n",
              "        vertical-align: middle;\n",
              "    }\n",
              "\n",
              "    .dataframe tbody tr th {\n",
              "        vertical-align: top;\n",
              "    }\n",
              "\n",
              "    .dataframe thead th {\n",
              "        text-align: right;\n",
              "    }\n",
              "</style>\n",
              "<table border=\"1\" class=\"dataframe\">\n",
              "  <thead>\n",
              "    <tr style=\"text-align: right;\">\n",
              "      <th></th>\n",
              "      <th>source</th>\n",
              "      <th>english_sentence</th>\n",
              "      <th>hindi_sentence</th>\n",
              "    </tr>\n",
              "  </thead>\n",
              "  <tbody>\n",
              "    <tr>\n",
              "      <th>82039</th>\n",
              "      <td>ted</td>\n",
              "      <td>we still dont know who her parents are who she is</td>\n",
              "      <td>START_ हम अभी तक नहीं जानते हैं कि उसके मातापि...</td>\n",
              "    </tr>\n",
              "    <tr>\n",
              "      <th>85037</th>\n",
              "      <td>ted</td>\n",
              "      <td>no keyboard</td>\n",
              "      <td>START_ कोई कुंजीपटल नहीं _END</td>\n",
              "    </tr>\n",
              "    <tr>\n",
              "      <th>58017</th>\n",
              "      <td>ted</td>\n",
              "      <td>but as far as being a performer</td>\n",
              "      <td>START_ लेकिन एक कलाकार होने के साथ _END</td>\n",
              "    </tr>\n",
              "    <tr>\n",
              "      <th>74469</th>\n",
              "      <td>ted</td>\n",
              "      <td>and this particular balloon</td>\n",
              "      <td>START_ और यह खास गुब्बारा _END</td>\n",
              "    </tr>\n",
              "    <tr>\n",
              "      <th>122329</th>\n",
              "      <td>ted</td>\n",
              "      <td>and its not as hard as you think integrate cli...</td>\n",
              "      <td>START_ और जितना आपको लगता है यह उतना कठिन नहीं...</td>\n",
              "    </tr>\n",
              "  </tbody>\n",
              "</table>\n",
              "</div>"
            ],
            "text/plain": [
              "       source  ...                                     hindi_sentence\n",
              "82039     ted  ...  START_ हम अभी तक नहीं जानते हैं कि उसके मातापि...\n",
              "85037     ted  ...                      START_ कोई कुंजीपटल नहीं _END\n",
              "58017     ted  ...            START_ लेकिन एक कलाकार होने के साथ _END\n",
              "74469     ted  ...                     START_ और यह खास गुब्बारा _END\n",
              "122329    ted  ...  START_ और जितना आपको लगता है यह उतना कठिन नहीं...\n",
              "\n",
              "[5 rows x 3 columns]"
            ]
          },
          "metadata": {
            "tags": []
          },
          "execution_count": 22
        }
      ]
    },
    {
      "cell_type": "code",
      "metadata": {
        "id": "nCv7InFp-Qpq",
        "colab_type": "code",
        "colab": {}
      },
      "source": [
        "### Get English and Hindi Vocabulary\n",
        "all_eng_words=set()\n",
        "for eng in lines['english_sentence']:\n",
        "    for word in eng.split():\n",
        "        if word not in all_eng_words:\n",
        "            all_eng_words.add(word)\n",
        "\n",
        "all_hindi_words=set()\n",
        "for hin in lines['hindi_sentence']:\n",
        "    for word in hin.split():\n",
        "        if word not in all_hindi_words:\n",
        "            all_hindi_words.add(word)"
      ],
      "execution_count": 0,
      "outputs": []
    },
    {
      "cell_type": "code",
      "metadata": {
        "id": "vbEEZvB_-Qpt",
        "colab_type": "code",
        "colab": {},
        "outputId": "b78d3416-100d-43f4-bda3-e20611fab014"
      },
      "source": [
        "len(all_eng_words)"
      ],
      "execution_count": 0,
      "outputs": [
        {
          "output_type": "execute_result",
          "data": {
            "text/plain": [
              "14030"
            ]
          },
          "metadata": {
            "tags": []
          },
          "execution_count": 17
        }
      ]
    },
    {
      "cell_type": "code",
      "metadata": {
        "id": "-aFOnyM7-Qpw",
        "colab_type": "code",
        "colab": {},
        "outputId": "65d532c7-ae33-4c91-9f8d-0899a9754ca3"
      },
      "source": [
        "len(all_hindi_words)"
      ],
      "execution_count": 0,
      "outputs": [
        {
          "output_type": "execute_result",
          "data": {
            "text/plain": [
              "17540"
            ]
          },
          "metadata": {
            "tags": []
          },
          "execution_count": 18
        }
      ]
    },
    {
      "cell_type": "code",
      "metadata": {
        "id": "tyyxZyEV-Qp0",
        "colab_type": "code",
        "colab": {}
      },
      "source": [
        "lines['length_eng_sentence']=lines['english_sentence'].apply(lambda x:len(x.split(\" \")))\n",
        "lines['length_hin_sentence']=lines['hindi_sentence'].apply(lambda x:len(x.split(\" \")))"
      ],
      "execution_count": 0,
      "outputs": []
    },
    {
      "cell_type": "code",
      "metadata": {
        "id": "TguB-pPc-Qp4",
        "colab_type": "code",
        "colab": {},
        "outputId": "af9afa15-ff84-4675-f695-1f1f10430dc4"
      },
      "source": [
        "lines.head()"
      ],
      "execution_count": 0,
      "outputs": [
        {
          "output_type": "execute_result",
          "data": {
            "text/html": [
              "<div>\n",
              "<style scoped>\n",
              "    .dataframe tbody tr th:only-of-type {\n",
              "        vertical-align: middle;\n",
              "    }\n",
              "\n",
              "    .dataframe tbody tr th {\n",
              "        vertical-align: top;\n",
              "    }\n",
              "\n",
              "    .dataframe thead th {\n",
              "        text-align: right;\n",
              "    }\n",
              "</style>\n",
              "<table border=\"1\" class=\"dataframe\">\n",
              "  <thead>\n",
              "    <tr style=\"text-align: right;\">\n",
              "      <th></th>\n",
              "      <th>source</th>\n",
              "      <th>english_sentence</th>\n",
              "      <th>hindi_sentence</th>\n",
              "      <th>length_eng_sentence</th>\n",
              "      <th>length_hin_sentence</th>\n",
              "    </tr>\n",
              "  </thead>\n",
              "  <tbody>\n",
              "    <tr>\n",
              "      <th>82040</th>\n",
              "      <td>ted</td>\n",
              "      <td>we still dont know who her parents are who she is</td>\n",
              "      <td>START_ हम अभी तक नहीं जानते हैं कि उसके मातापिता कौन हैं वह कौन है _END</td>\n",
              "      <td>11</td>\n",
              "      <td>16</td>\n",
              "    </tr>\n",
              "    <tr>\n",
              "      <th>85038</th>\n",
              "      <td>ted</td>\n",
              "      <td>no keyboard</td>\n",
              "      <td>START_ कोई कुंजीपटल नहीं _END</td>\n",
              "      <td>2</td>\n",
              "      <td>5</td>\n",
              "    </tr>\n",
              "    <tr>\n",
              "      <th>58018</th>\n",
              "      <td>ted</td>\n",
              "      <td>but as far as being a performer</td>\n",
              "      <td>START_ लेकिन एक कलाकार होने के साथ _END</td>\n",
              "      <td>7</td>\n",
              "      <td>8</td>\n",
              "    </tr>\n",
              "    <tr>\n",
              "      <th>74470</th>\n",
              "      <td>ted</td>\n",
              "      <td>and this particular balloon</td>\n",
              "      <td>START_ और यह खास गुब्बारा _END</td>\n",
              "      <td>4</td>\n",
              "      <td>6</td>\n",
              "    </tr>\n",
              "    <tr>\n",
              "      <th>122330</th>\n",
              "      <td>ted</td>\n",
              "      <td>and its not as hard as you think integrate climate solutions into all of your innovations</td>\n",
              "      <td>START_ और जितना आपको लगता है यह उतना कठिन नहीं हैअपने सभी नवाचारों में जलवायु समाधान को एकीकृत करें _END</td>\n",
              "      <td>16</td>\n",
              "      <td>20</td>\n",
              "    </tr>\n",
              "  </tbody>\n",
              "</table>\n",
              "</div>"
            ],
            "text/plain": [
              "       source                                                                           english_sentence                                                                                            hindi_sentence  length_eng_sentence  length_hin_sentence\n",
              "82040   ted    we still dont know who her parents are who she is                                          START_ हम अभी तक नहीं जानते हैं कि उसके मातापिता कौन हैं वह कौन है _END                                   11                   16                 \n",
              "85038   ted    no keyboard                                                                                START_ कोई कुंजीपटल नहीं _END                                                                             2                    5                  \n",
              "58018   ted    but as far as being a performer                                                            START_ लेकिन एक कलाकार होने के साथ _END                                                                   7                    8                  \n",
              "74470   ted    and this particular balloon                                                                START_ और यह खास गुब्बारा _END                                                                            4                    6                  \n",
              "122330  ted    and its not as hard as you think integrate climate solutions into all of your innovations  START_ और जितना आपको लगता है यह उतना कठिन नहीं हैअपने सभी नवाचारों में जलवायु समाधान को एकीकृत करें _END  16                   20                 "
            ]
          },
          "metadata": {
            "tags": []
          },
          "execution_count": 20
        }
      ]
    },
    {
      "cell_type": "code",
      "metadata": {
        "id": "UnmJ6quT-Qp9",
        "colab_type": "code",
        "colab": {},
        "outputId": "60c2c8cd-62ff-40e3-90f0-a3c3a480354b"
      },
      "source": [
        "lines[lines['length_eng_sentence']>30].shape"
      ],
      "execution_count": 0,
      "outputs": [
        {
          "output_type": "execute_result",
          "data": {
            "text/plain": [
              "(0, 5)"
            ]
          },
          "metadata": {
            "tags": []
          },
          "execution_count": 21
        }
      ]
    },
    {
      "cell_type": "code",
      "metadata": {
        "id": "8WkRJOT5-QqC",
        "colab_type": "code",
        "colab": {}
      },
      "source": [
        "lines=lines[lines['length_eng_sentence']<=20]\n",
        "lines=lines[lines['length_hin_sentence']<=20]"
      ],
      "execution_count": 0,
      "outputs": []
    },
    {
      "cell_type": "code",
      "metadata": {
        "id": "v_Mn8gKW-QqI",
        "colab_type": "code",
        "colab": {},
        "outputId": "d71cb5d5-70c1-428e-883e-5302fc34690e"
      },
      "source": [
        "lines.shape"
      ],
      "execution_count": 0,
      "outputs": [
        {
          "output_type": "execute_result",
          "data": {
            "text/plain": [
              "(24774, 5)"
            ]
          },
          "metadata": {
            "tags": []
          },
          "execution_count": 23
        }
      ]
    },
    {
      "cell_type": "code",
      "metadata": {
        "id": "4dc4eB48-QqM",
        "colab_type": "code",
        "colab": {},
        "outputId": "13b27b91-adc3-4631-eb57-65467ca527d7"
      },
      "source": [
        "print(\"maximum length of Hindi Sentence \",max(lines['length_hin_sentence']))\n",
        "print(\"maximum length of English Sentence \",max(lines['length_eng_sentence']))"
      ],
      "execution_count": 0,
      "outputs": [
        {
          "output_type": "stream",
          "text": [
            "maximum length of Hindi Sentence  20\n",
            "maximum length of English Sentence  20\n"
          ],
          "name": "stdout"
        }
      ]
    },
    {
      "cell_type": "code",
      "metadata": {
        "id": "3a_Qpeb8-QqP",
        "colab_type": "code",
        "colab": {}
      },
      "source": [
        "max_length_src=max(lines['length_hin_sentence'])\n",
        "max_length_tar=max(lines['length_eng_sentence'])"
      ],
      "execution_count": 0,
      "outputs": []
    },
    {
      "cell_type": "code",
      "metadata": {
        "id": "BocTYTDV-QqT",
        "colab_type": "code",
        "colab": {},
        "outputId": "de40bf28-5ce1-4d29-a1fc-ff4cfba17f5c"
      },
      "source": [
        "input_words = sorted(list(all_eng_words))\n",
        "target_words = sorted(list(all_hindi_words))\n",
        "num_encoder_tokens = len(all_eng_words)\n",
        "num_decoder_tokens = len(all_hindi_words)\n",
        "num_encoder_tokens, num_decoder_tokens"
      ],
      "execution_count": 0,
      "outputs": [
        {
          "output_type": "execute_result",
          "data": {
            "text/plain": [
              "(14030, 17540)"
            ]
          },
          "metadata": {
            "tags": []
          },
          "execution_count": 26
        }
      ]
    },
    {
      "cell_type": "code",
      "metadata": {
        "id": "jEJJQflE-QqX",
        "colab_type": "code",
        "colab": {}
      },
      "source": [
        "num_decoder_tokens += 1 #for zero padding\n"
      ],
      "execution_count": 0,
      "outputs": []
    },
    {
      "cell_type": "code",
      "metadata": {
        "id": "-OJlBpR7-Qqa",
        "colab_type": "code",
        "colab": {}
      },
      "source": [
        "input_token_index = dict([(word, i+1) for i, word in enumerate(input_words)])\n",
        "target_token_index = dict([(word, i+1) for i, word in enumerate(target_words)])"
      ],
      "execution_count": 0,
      "outputs": []
    },
    {
      "cell_type": "code",
      "metadata": {
        "id": "l--R7DO4-Qqe",
        "colab_type": "code",
        "colab": {}
      },
      "source": [
        "reverse_input_char_index = dict((i, word) for word, i in input_token_index.items())\n",
        "reverse_target_char_index = dict((i, word) for word, i in target_token_index.items())"
      ],
      "execution_count": 0,
      "outputs": []
    },
    {
      "cell_type": "code",
      "metadata": {
        "id": "k68xGNyQ-Qqj",
        "colab_type": "code",
        "colab": {},
        "outputId": "6f422a67-69de-4d8d-849a-609fece3d37a"
      },
      "source": [
        "lines = shuffle(lines)\n",
        "lines.head(10)"
      ],
      "execution_count": 0,
      "outputs": [
        {
          "output_type": "execute_result",
          "data": {
            "text/html": [
              "<div>\n",
              "<style scoped>\n",
              "    .dataframe tbody tr th:only-of-type {\n",
              "        vertical-align: middle;\n",
              "    }\n",
              "\n",
              "    .dataframe tbody tr th {\n",
              "        vertical-align: top;\n",
              "    }\n",
              "\n",
              "    .dataframe thead th {\n",
              "        text-align: right;\n",
              "    }\n",
              "</style>\n",
              "<table border=\"1\" class=\"dataframe\">\n",
              "  <thead>\n",
              "    <tr style=\"text-align: right;\">\n",
              "      <th></th>\n",
              "      <th>source</th>\n",
              "      <th>english_sentence</th>\n",
              "      <th>hindi_sentence</th>\n",
              "      <th>length_eng_sentence</th>\n",
              "      <th>length_hin_sentence</th>\n",
              "    </tr>\n",
              "  </thead>\n",
              "  <tbody>\n",
              "    <tr>\n",
              "      <th>124307</th>\n",
              "      <td>ted</td>\n",
              "      <td>the boston shuffler the carnival</td>\n",
              "      <td>START_ बोस्टनपैरघसीटनेवाला “कार्निवल” _END</td>\n",
              "      <td>5</td>\n",
              "      <td>4</td>\n",
              "    </tr>\n",
              "    <tr>\n",
              "      <th>17340</th>\n",
              "      <td>ted</td>\n",
              "      <td>in the villages in the slums</td>\n",
              "      <td>START_ गाँवों और झुग्गियों से _END</td>\n",
              "      <td>6</td>\n",
              "      <td>6</td>\n",
              "    </tr>\n",
              "    <tr>\n",
              "      <th>74027</th>\n",
              "      <td>ted</td>\n",
              "      <td>we created competition for ourselves</td>\n",
              "      <td>START_ हमने खुद अपने लिये चुनौतियाँ खडी कीं _END</td>\n",
              "      <td>5</td>\n",
              "      <td>9</td>\n",
              "    </tr>\n",
              "    <tr>\n",
              "      <th>56767</th>\n",
              "      <td>ted</td>\n",
              "      <td>for good and for ill</td>\n",
              "      <td>START_ अच्छे के लिए और बुरे के लिए _END</td>\n",
              "      <td>5</td>\n",
              "      <td>9</td>\n",
              "    </tr>\n",
              "    <tr>\n",
              "      <th>28653</th>\n",
              "      <td>ted</td>\n",
              "      <td>and when you ask people about connection</td>\n",
              "      <td>START_ और जब आप लोगों से संपर्क के बारे में पूछते हैं _END</td>\n",
              "      <td>7</td>\n",
              "      <td>13</td>\n",
              "    </tr>\n",
              "    <tr>\n",
              "      <th>83421</th>\n",
              "      <td>ted</td>\n",
              "      <td>meanwhile my friends were working for five hours</td>\n",
              "      <td>START_ जबकि मेरे दोस्त पाँच घण्टों तक काम करके _END</td>\n",
              "      <td>8</td>\n",
              "      <td>10</td>\n",
              "    </tr>\n",
              "    <tr>\n",
              "      <th>94491</th>\n",
              "      <td>ted</td>\n",
              "      <td>the perverse at heart</td>\n",
              "      <td>START_ पंकिल हृदय वाले _END</td>\n",
              "      <td>4</td>\n",
              "      <td>5</td>\n",
              "    </tr>\n",
              "    <tr>\n",
              "      <th>13751</th>\n",
              "      <td>ted</td>\n",
              "      <td>where great images of mother goddesses are built</td>\n",
              "      <td>START_ देवियों की महान मूर्तियाँ तैयार की जाती हैं _END</td>\n",
              "      <td>8</td>\n",
              "      <td>10</td>\n",
              "    </tr>\n",
              "    <tr>\n",
              "      <th>28563</th>\n",
              "      <td>ted</td>\n",
              "      <td>and it killed people</td>\n",
              "      <td>START_ और लोग मरे गए _END</td>\n",
              "      <td>4</td>\n",
              "      <td>6</td>\n",
              "    </tr>\n",
              "    <tr>\n",
              "      <th>56845</th>\n",
              "      <td>ted</td>\n",
              "      <td>“no mama you got to look”</td>\n",
              "      <td>START_ “नहीं मामा यह तो आपको देखना ही पड़ेगा” _END</td>\n",
              "      <td>6</td>\n",
              "      <td>10</td>\n",
              "    </tr>\n",
              "  </tbody>\n",
              "</table>\n",
              "</div>"
            ],
            "text/plain": [
              "       source                                  english_sentence                                              hindi_sentence  length_eng_sentence  length_hin_sentence\n",
              "124307  ted    the boston shuffler the carnival                  START_ बोस्टनपैरघसीटनेवाला “कार्निवल” _END                  5                    4                  \n",
              "17340   ted    in the villages in the slums                      START_ गाँवों और झुग्गियों से _END                          6                    6                  \n",
              "74027   ted    we created competition for ourselves              START_ हमने खुद अपने लिये चुनौतियाँ खडी कीं _END            5                    9                  \n",
              "56767   ted    for good and for ill                              START_ अच्छे के लिए और बुरे के लिए _END                     5                    9                  \n",
              "28653   ted    and when you ask people about connection          START_ और जब आप लोगों से संपर्क के बारे में पूछते हैं _END  7                    13                 \n",
              "83421   ted    meanwhile my friends were working for five hours  START_ जबकि मेरे दोस्त पाँच घण्टों तक काम करके _END         8                    10                 \n",
              "94491   ted    the perverse at heart                             START_ पंकिल हृदय वाले _END                                 4                    5                  \n",
              "13751   ted    where great images of mother goddesses are built  START_ देवियों की महान मूर्तियाँ तैयार की जाती हैं _END     8                    10                 \n",
              "28563   ted    and it killed people                              START_ और लोग मरे गए _END                                   4                    6                  \n",
              "56845   ted    “no mama you got to look”                         START_ “नहीं मामा यह तो आपको देखना ही पड़ेगा” _END          6                    10                 "
            ]
          },
          "metadata": {
            "tags": []
          },
          "execution_count": 30
        }
      ]
    },
    {
      "cell_type": "markdown",
      "metadata": {
        "id": "r2LSlgu5-Qqn",
        "colab_type": "text"
      },
      "source": [
        "### Split the data into train and test"
      ]
    },
    {
      "cell_type": "code",
      "metadata": {
        "id": "4U7QkZ7p-Qqo",
        "colab_type": "code",
        "colab": {},
        "outputId": "01233419-10ce-4252-8a01-0d1c3d843ee5"
      },
      "source": [
        "X, y = lines['english_sentence'], lines['hindi_sentence']\n",
        "X_train, X_test, y_train, y_test = train_test_split(X, y, test_size = 0.2,random_state=42)\n",
        "X_train.shape, X_test.shape"
      ],
      "execution_count": 0,
      "outputs": [
        {
          "output_type": "execute_result",
          "data": {
            "text/plain": [
              "((19819,), (4955,))"
            ]
          },
          "metadata": {
            "tags": []
          },
          "execution_count": 31
        }
      ]
    },
    {
      "cell_type": "markdown",
      "metadata": {
        "id": "j-BYIBCk-Qqs",
        "colab_type": "text"
      },
      "source": [
        "### Let us save this data"
      ]
    },
    {
      "cell_type": "code",
      "metadata": {
        "id": "9s1WEiRH-Qqs",
        "colab_type": "code",
        "colab": {}
      },
      "source": [
        "X_train.to_pickle('X_train.pkl')\n",
        "X_test.to_pickle('X_test.pkl')\n"
      ],
      "execution_count": 0,
      "outputs": []
    },
    {
      "cell_type": "code",
      "metadata": {
        "id": "OL2lzkyV-Qqx",
        "colab_type": "code",
        "colab": {}
      },
      "source": [
        "def generate_batch(X = X_train, y = y_train, batch_size = 128):\n",
        "    ''' Generate a batch of data '''\n",
        "    while True:\n",
        "        for j in range(0, len(X), batch_size):\n",
        "            encoder_input_data = np.zeros((batch_size, max_length_src),dtype='float32')\n",
        "            decoder_input_data = np.zeros((batch_size, max_length_tar),dtype='float32')\n",
        "            decoder_target_data = np.zeros((batch_size, max_length_tar, num_decoder_tokens),dtype='float32')\n",
        "            for i, (input_text, target_text) in enumerate(zip(X[j:j+batch_size], y[j:j+batch_size])):\n",
        "                for t, word in enumerate(input_text.split()):\n",
        "                    encoder_input_data[i, t] = input_token_index[word] # encoder input seq\n",
        "                for t, word in enumerate(target_text.split()):\n",
        "                    if t<len(target_text.split())-1:\n",
        "                        decoder_input_data[i, t] = target_token_index[word] # decoder input seq\n",
        "                    if t>0:\n",
        "                        # decoder target sequence (one hot encoded)\n",
        "                        # does not include the START_ token\n",
        "                        # Offset by one timestep\n",
        "                        decoder_target_data[i, t - 1, target_token_index[word]] = 1.\n",
        "            yield([encoder_input_data, decoder_input_data], decoder_target_data)"
      ],
      "execution_count": 0,
      "outputs": []
    },
    {
      "cell_type": "markdown",
      "metadata": {
        "id": "Fg7FCjDa-Qq0",
        "colab_type": "text"
      },
      "source": [
        "### Encoder-Decoder Architecture"
      ]
    },
    {
      "cell_type": "code",
      "metadata": {
        "id": "iTAGll4u-Qq1",
        "colab_type": "code",
        "colab": {}
      },
      "source": [
        "latent_dim=300"
      ],
      "execution_count": 0,
      "outputs": []
    },
    {
      "cell_type": "code",
      "metadata": {
        "id": "LLK77hnI-Qq5",
        "colab_type": "code",
        "colab": {},
        "outputId": "e56ae8df-edf9-420b-eb6a-80bf18acc60b"
      },
      "source": [
        "# Encoder\n",
        "encoder_inputs = Input(shape=(None,))\n",
        "enc_emb =  Embedding(num_encoder_tokens, latent_dim, mask_zero = True)(encoder_inputs)\n",
        "encoder_lstm = LSTM(latent_dim, return_state=True)\n",
        "encoder_outputs, state_h, state_c = encoder_lstm(enc_emb)\n",
        "# We discard `encoder_outputs` and only keep the states.\n",
        "encoder_states = [state_h, state_c]"
      ],
      "execution_count": 0,
      "outputs": [
        {
          "output_type": "stream",
          "text": [
            "WARNING:tensorflow:From /opt/conda/lib/python3.6/site-packages/tensorflow/python/framework/op_def_library.py:263: colocate_with (from tensorflow.python.framework.ops) is deprecated and will be removed in a future version.\n",
            "Instructions for updating:\n",
            "Colocations handled automatically by placer.\n"
          ],
          "name": "stdout"
        }
      ]
    },
    {
      "cell_type": "code",
      "metadata": {
        "id": "Gcbv3kNM-Qq8",
        "colab_type": "code",
        "colab": {}
      },
      "source": [
        "# Set up the decoder, using `encoder_states` as initial state.\n",
        "decoder_inputs = Input(shape=(None,))\n",
        "dec_emb_layer = Embedding(num_decoder_tokens, latent_dim, mask_zero = True)\n",
        "dec_emb = dec_emb_layer(decoder_inputs)\n",
        "# We set up our decoder to return full output sequences,\n",
        "# and to return internal states as well. We don't use the\n",
        "# return states in the training model, but we will use them in inference.\n",
        "decoder_lstm = LSTM(latent_dim, return_sequences=True, return_state=True)\n",
        "decoder_outputs, _, _ = decoder_lstm(dec_emb,\n",
        "                                     initial_state=encoder_states)\n",
        "decoder_dense = Dense(num_decoder_tokens, activation='softmax')\n",
        "decoder_outputs = decoder_dense(decoder_outputs)\n",
        "\n",
        "# Define the model that will turn\n",
        "# `encoder_input_data` & `decoder_input_data` into `decoder_target_data`\n",
        "model = Model([encoder_inputs, decoder_inputs], decoder_outputs)"
      ],
      "execution_count": 0,
      "outputs": []
    },
    {
      "cell_type": "code",
      "metadata": {
        "id": "aS1aMH21-Qq_",
        "colab_type": "code",
        "colab": {}
      },
      "source": [
        "model.compile(optimizer='rmsprop', loss='categorical_crossentropy')"
      ],
      "execution_count": 0,
      "outputs": []
    },
    {
      "cell_type": "code",
      "metadata": {
        "id": "d11AuPeG-QrG",
        "colab_type": "code",
        "colab": {},
        "outputId": "42fd5272-6a0a-4eed-befd-807fd2f7eda9"
      },
      "source": [
        "model.summary()"
      ],
      "execution_count": 0,
      "outputs": [
        {
          "output_type": "stream",
          "text": [
            "__________________________________________________________________________________________________\n",
            "Layer (type)                    Output Shape         Param #     Connected to                     \n",
            "==================================================================================================\n",
            "input_1 (InputLayer)            (None, None)         0                                            \n",
            "__________________________________________________________________________________________________\n",
            "input_2 (InputLayer)            (None, None)         0                                            \n",
            "__________________________________________________________________________________________________\n",
            "embedding_1 (Embedding)         (None, None, 300)    4209000     input_1[0][0]                    \n",
            "__________________________________________________________________________________________________\n",
            "embedding_2 (Embedding)         (None, None, 300)    5262300     input_2[0][0]                    \n",
            "__________________________________________________________________________________________________\n",
            "lstm_1 (LSTM)                   [(None, 300), (None, 721200      embedding_1[0][0]                \n",
            "__________________________________________________________________________________________________\n",
            "lstm_2 (LSTM)                   [(None, None, 300),  721200      embedding_2[0][0]                \n",
            "                                                                 lstm_1[0][1]                     \n",
            "                                                                 lstm_1[0][2]                     \n",
            "__________________________________________________________________________________________________\n",
            "dense_1 (Dense)                 (None, None, 17541)  5279841     lstm_2[0][0]                     \n",
            "==================================================================================================\n",
            "Total params: 16,193,541\n",
            "Trainable params: 16,193,541\n",
            "Non-trainable params: 0\n",
            "__________________________________________________________________________________________________\n"
          ],
          "name": "stdout"
        }
      ]
    },
    {
      "cell_type": "code",
      "metadata": {
        "id": "Yv7AROxz-QrM",
        "colab_type": "code",
        "colab": {}
      },
      "source": [
        "train_samples = len(X_train)\n",
        "val_samples = len(X_test)\n",
        "batch_size = 128\n",
        "epochs = 100"
      ],
      "execution_count": 0,
      "outputs": []
    },
    {
      "cell_type": "code",
      "metadata": {
        "id": "28UzQhPw-QrS",
        "colab_type": "code",
        "colab": {},
        "outputId": "6c3ad43c-6386-4865-d197-c31918f67a73"
      },
      "source": [
        "model.fit_generator(generator = generate_batch(X_train, y_train, batch_size = batch_size),\n",
        "                    steps_per_epoch = train_samples//batch_size,\n",
        "                    epochs=epochs,\n",
        "                    validation_data = generate_batch(X_test, y_test, batch_size = batch_size),\n",
        "                    validation_steps = val_samples//batch_size)\n",
        "\n"
      ],
      "execution_count": 0,
      "outputs": [
        {
          "output_type": "stream",
          "text": [
            "WARNING:tensorflow:From /opt/conda/lib/python3.6/site-packages/tensorflow/python/ops/math_ops.py:3066: to_int32 (from tensorflow.python.ops.math_ops) is deprecated and will be removed in a future version.\n",
            "Instructions for updating:\n",
            "Use tf.cast instead.\n",
            "WARNING:tensorflow:From /opt/conda/lib/python3.6/site-packages/tensorflow/python/ops/math_grad.py:102: div (from tensorflow.python.ops.math_ops) is deprecated and will be removed in a future version.\n",
            "Instructions for updating:\n",
            "Deprecated in favor of operator or tf.math.divide.\n",
            "Epoch 1/100\n",
            "154/154 [==============================] - 61s 398ms/step - loss: 6.4302 - val_loss: 6.1065\n",
            "Epoch 2/100\n",
            "154/154 [==============================] - 58s 379ms/step - loss: 5.8324 - val_loss: 5.7596\n",
            "Epoch 3/100\n",
            "154/154 [==============================] - 58s 375ms/step - loss: 5.4743 - val_loss: 5.5979\n",
            "Epoch 4/100\n",
            "154/154 [==============================] - 58s 374ms/step - loss: 5.2358 - val_loss: 5.4984\n",
            "Epoch 5/100\n",
            "154/154 [==============================] - 57s 371ms/step - loss: 5.0351 - val_loss: 5.4325\n",
            "Epoch 6/100\n",
            "154/154 [==============================] - 58s 374ms/step - loss: 4.8545 - val_loss: 5.3787\n",
            "Epoch 7/100\n",
            "154/154 [==============================] - 58s 374ms/step - loss: 4.6826 - val_loss: 5.3234\n",
            "Epoch 8/100\n",
            "154/154 [==============================] - 58s 376ms/step - loss: 4.5184 - val_loss: 5.3026\n",
            "Epoch 9/100\n",
            "154/154 [==============================] - 58s 374ms/step - loss: 4.3628 - val_loss: 5.2641\n",
            "Epoch 10/100\n",
            "154/154 [==============================] - 57s 371ms/step - loss: 4.2178 - val_loss: 5.2576\n",
            "Epoch 11/100\n",
            "154/154 [==============================] - 58s 374ms/step - loss: 4.0761 - val_loss: 5.2603\n",
            "Epoch 12/100\n",
            "154/154 [==============================] - 58s 373ms/step - loss: 3.9363 - val_loss: 5.2638\n",
            "Epoch 13/100\n",
            "154/154 [==============================] - 57s 372ms/step - loss: 3.8022 - val_loss: 5.2500\n",
            "Epoch 14/100\n",
            "154/154 [==============================] - 57s 371ms/step - loss: 3.6704 - val_loss: 5.2799\n",
            "Epoch 15/100\n",
            "154/154 [==============================] - 57s 371ms/step - loss: 3.5421 - val_loss: 5.2825\n",
            "Epoch 16/100\n",
            "154/154 [==============================] - 57s 368ms/step - loss: 3.4159 - val_loss: 5.3089\n",
            "Epoch 17/100\n",
            "154/154 [==============================] - 57s 369ms/step - loss: 3.2925 - val_loss: 5.3458\n",
            "Epoch 18/100\n",
            "154/154 [==============================] - 57s 369ms/step - loss: 3.1718 - val_loss: 5.3797\n",
            "Epoch 19/100\n",
            "154/154 [==============================] - 57s 369ms/step - loss: 3.0532 - val_loss: 5.4118\n",
            "Epoch 20/100\n",
            "154/154 [==============================] - 57s 369ms/step - loss: 2.9372 - val_loss: 5.4372\n",
            "Epoch 21/100\n",
            "154/154 [==============================] - 56s 365ms/step - loss: 2.8211 - val_loss: 5.4900\n",
            "Epoch 22/100\n",
            "154/154 [==============================] - 57s 368ms/step - loss: 2.7083 - val_loss: 5.5372\n",
            "Epoch 23/100\n",
            "154/154 [==============================] - 56s 366ms/step - loss: 2.5940 - val_loss: 5.5821\n",
            "Epoch 24/100\n",
            "154/154 [==============================] - 57s 367ms/step - loss: 2.4886 - val_loss: 5.6247\n",
            "Epoch 25/100\n",
            "154/154 [==============================] - 56s 367ms/step - loss: 2.3871 - val_loss: 5.6674\n",
            "Epoch 26/100\n",
            "154/154 [==============================] - 56s 365ms/step - loss: 2.2865 - val_loss: 5.7193\n",
            "Epoch 27/100\n",
            "154/154 [==============================] - 56s 367ms/step - loss: 2.1875 - val_loss: 5.7680\n",
            "Epoch 28/100\n",
            "154/154 [==============================] - 56s 366ms/step - loss: 2.0926 - val_loss: 5.7977\n",
            "Epoch 29/100\n",
            "154/154 [==============================] - 56s 365ms/step - loss: 2.0025 - val_loss: 5.8524\n",
            "Epoch 30/100\n",
            "154/154 [==============================] - 56s 366ms/step - loss: 1.9112 - val_loss: 5.8916\n",
            "Epoch 31/100\n",
            "154/154 [==============================] - 56s 365ms/step - loss: 1.8234 - val_loss: 5.9485\n",
            "Epoch 32/100\n",
            "154/154 [==============================] - 56s 365ms/step - loss: 1.7395 - val_loss: 5.9946\n",
            "Epoch 33/100\n",
            "154/154 [==============================] - 56s 364ms/step - loss: 1.6597 - val_loss: 6.0302\n",
            "Epoch 34/100\n",
            "154/154 [==============================] - 56s 364ms/step - loss: 1.5847 - val_loss: 6.1043\n",
            "Epoch 35/100\n",
            "154/154 [==============================] - 56s 364ms/step - loss: 1.5099 - val_loss: 6.1382\n",
            "Epoch 36/100\n",
            "154/154 [==============================] - 56s 363ms/step - loss: 1.4439 - val_loss: 6.1812\n",
            "Epoch 37/100\n",
            "154/154 [==============================] - 57s 370ms/step - loss: 1.3744 - val_loss: 6.2156\n",
            "Epoch 38/100\n",
            "154/154 [==============================] - 57s 371ms/step - loss: 1.3123 - val_loss: 6.2601\n",
            "Epoch 39/100\n",
            "154/154 [==============================] - 57s 369ms/step - loss: 1.2487 - val_loss: 6.3008\n",
            "Epoch 40/100\n",
            "154/154 [==============================] - 60s 388ms/step - loss: 1.1887 - val_loss: 6.3586\n",
            "Epoch 41/100\n",
            "154/154 [==============================] - 57s 370ms/step - loss: 1.1322 - val_loss: 6.4005\n",
            "Epoch 42/100\n",
            "  2/154 [..............................] - ETA: 46s - loss: 1.1351"
          ],
          "name": "stdout"
        }
      ]
    },
    {
      "cell_type": "code",
      "metadata": {
        "id": "sHq6-G1Y-QrV",
        "colab_type": "code",
        "colab": {}
      },
      "source": [
        "model.save_weights('nmt_weights.h5')"
      ],
      "execution_count": 0,
      "outputs": []
    },
    {
      "cell_type": "code",
      "metadata": {
        "id": "zu0_xZnu-QrY",
        "colab_type": "code",
        "colab": {}
      },
      "source": [
        "# Encode the input sequence to get the \"thought vectors\"\n",
        "encoder_model = Model(encoder_inputs, encoder_states)\n",
        "\n",
        "# Decoder setup\n",
        "# Below tensors will hold the states of the previous time step\n",
        "decoder_state_input_h = Input(shape=(latent_dim,))\n",
        "decoder_state_input_c = Input(shape=(latent_dim,))\n",
        "decoder_states_inputs = [decoder_state_input_h, decoder_state_input_c]\n",
        "\n",
        "dec_emb2= dec_emb_layer(decoder_inputs) # Get the embeddings of the decoder sequence\n",
        "\n",
        "# To predict the next word in the sequence, set the initial states to the states from the previous time step\n",
        "decoder_outputs2, state_h2, state_c2 = decoder_lstm(dec_emb2, initial_state=decoder_states_inputs)\n",
        "decoder_states2 = [state_h2, state_c2]\n",
        "decoder_outputs2 = decoder_dense(decoder_outputs2) # A dense softmax layer to generate prob dist. over the target vocabulary\n",
        "\n",
        "# Final decoder model\n",
        "decoder_model = Model(\n",
        "    [decoder_inputs] + decoder_states_inputs,\n",
        "    [decoder_outputs2] + decoder_states2)\n"
      ],
      "execution_count": 0,
      "outputs": []
    },
    {
      "cell_type": "code",
      "metadata": {
        "id": "-mis8vAh-Qrb",
        "colab_type": "code",
        "colab": {}
      },
      "source": [
        "def decode_sequence(input_seq):\n",
        "    # Encode the input as state vectors.\n",
        "    states_value = encoder_model.predict(input_seq)\n",
        "    # Generate empty target sequence of length 1.\n",
        "    target_seq = np.zeros((1,1))\n",
        "    # Populate the first character of target sequence with the start character.\n",
        "    target_seq[0, 0] = target_token_index['START_']\n",
        "\n",
        "    # Sampling loop for a batch of sequences\n",
        "    # (to simplify, here we assume a batch of size 1).\n",
        "    stop_condition = False\n",
        "    decoded_sentence = ''\n",
        "    while not stop_condition:\n",
        "        output_tokens, h, c = decoder_model.predict([target_seq] + states_value)\n",
        "\n",
        "        # Sample a token\n",
        "        sampled_token_index = np.argmax(output_tokens[0, -1, :])\n",
        "        sampled_char = reverse_target_char_index[sampled_token_index]\n",
        "        decoded_sentence += ' '+sampled_char\n",
        "\n",
        "        # Exit condition: either hit max length\n",
        "        # or find stop character.\n",
        "        if (sampled_char == '_END' or\n",
        "           len(decoded_sentence) > 50):\n",
        "            stop_condition = True\n",
        "\n",
        "        # Update the target sequence (of length 1).\n",
        "        target_seq = np.zeros((1,1))\n",
        "        target_seq[0, 0] = sampled_token_index\n",
        "\n",
        "        # Update states\n",
        "        states_value = [h, c]\n",
        "\n",
        "    return decoded_sentence"
      ],
      "execution_count": 0,
      "outputs": []
    },
    {
      "cell_type": "code",
      "metadata": {
        "id": "XV975ieT-Qrf",
        "colab_type": "code",
        "colab": {}
      },
      "source": [
        "train_gen = generate_batch(X_train, y_train, batch_size = 1)\n",
        "k=-1\n"
      ],
      "execution_count": 0,
      "outputs": []
    },
    {
      "cell_type": "code",
      "metadata": {
        "id": "nDzS44BP-Qrk",
        "colab_type": "code",
        "colab": {},
        "outputId": "dd683084-75c5-4d58-a447-72ac66d09f5c"
      },
      "source": [
        "k+=1\n",
        "(input_seq, actual_output), _ = next(train_gen)\n",
        "decoded_sentence = decode_sequence(input_seq)\n",
        "print('Input English sentence:', X_train[k:k+1].values[0])\n",
        "print('Actual Hindi Translation:', y_train[k:k+1].values[0][6:-4])\n",
        "print('Predicted Hindi Translation:', decoded_sentence[:-4])"
      ],
      "execution_count": 0,
      "outputs": [
        {
          "output_type": "stream",
          "text": [
            "Input English sentence: in order to understand whether this is true\n",
            "Actual Hindi Translation:  यह समझने के लिए कि क्या यह सच है \n",
            "Predicted Hindi Translation:  यह समझने के लिए कि क्या यह सच है \n"
          ],
          "name": "stdout"
        }
      ]
    },
    {
      "cell_type": "code",
      "metadata": {
        "id": "vZZMkok9-Qrq",
        "colab_type": "code",
        "colab": {},
        "outputId": "a458e9c7-9877-411d-ed86-07daf08d4b01"
      },
      "source": [
        "k+=1\n",
        "(input_seq, actual_output), _ = next(train_gen)\n",
        "decoded_sentence = decode_sequence(input_seq)\n",
        "print('Input English sentence:', X_train[k:k+1].values[0])\n",
        "print('Actual Hindi Translation:', y_train[k:k+1].values[0][6:-4])\n",
        "print('Predicted Hindi Translation:', decoded_sentence[:-4])"
      ],
      "execution_count": 0,
      "outputs": [
        {
          "output_type": "stream",
          "text": [
            "Input English sentence: to why india is today growing\n",
            "Actual Hindi Translation:  कि भारत आज आगे बढ़ रहा है \n",
            "Predicted Hindi Translation:  कि भारत आज आगे बढ़ रहा है \n"
          ],
          "name": "stdout"
        }
      ]
    },
    {
      "cell_type": "code",
      "metadata": {
        "id": "U8kFOaNA-Qrz",
        "colab_type": "code",
        "colab": {},
        "outputId": "125cfb3d-ecf4-454c-abcb-4236efdf646c"
      },
      "source": [
        "k+=1\n",
        "(input_seq, actual_output), _ = next(train_gen)\n",
        "decoded_sentence = decode_sequence(input_seq)\n",
        "print('Input English sentence:', X_train[k:k+1].values[0])\n",
        "print('Actual Hindi Translation:', y_train[k:k+1].values[0][6:-4])\n",
        "print('Predicted Hindi Translation:', decoded_sentence[:-4])"
      ],
      "execution_count": 0,
      "outputs": [
        {
          "output_type": "stream",
          "text": [
            "Input English sentence: then theyll live years longer”\n",
            "Actual Hindi Translation:  तो वे साल अधिक जियेंगे” \n",
            "Predicted Hindi Translation:  तो वे साल अधिक जियेंगे” \n"
          ],
          "name": "stdout"
        }
      ]
    },
    {
      "cell_type": "code",
      "metadata": {
        "id": "x-u0hUsN-Qr4",
        "colab_type": "code",
        "colab": {},
        "outputId": "3ee45b26-975a-478a-b6b4-305d521e203e"
      },
      "source": [
        "k+=1\n",
        "(input_seq, actual_output), _ = next(train_gen)\n",
        "decoded_sentence = decode_sequence(input_seq)\n",
        "print('Input English sentence:', X_train[k:k+1].values[0])\n",
        "print('Actual Hindi Translation:', y_train[k:k+1].values[0][6:-4])\n",
        "print('Predicted Hindi Translation:', decoded_sentence[:-4])"
      ],
      "execution_count": 0,
      "outputs": [
        {
          "output_type": "stream",
          "text": [
            "Input English sentence: and start thinking about the long long line from b to e\n",
            "Actual Hindi Translation:  और सोचना होता है उस लम्बी लम्बी रेखा के बारे में जो बी से ई तक जाती है \n",
            "Predicted Hindi Translation:  और सोचना होता है और पता चला रहा है \n"
          ],
          "name": "stdout"
        }
      ]
    },
    {
      "cell_type": "code",
      "metadata": {
        "id": "V-YkYTMK-Qr9",
        "colab_type": "code",
        "colab": {},
        "outputId": "2862cd76-c665-4872-aafe-6f50961d5d72"
      },
      "source": [
        "k+=1\n",
        "(input_seq, actual_output), _ = next(train_gen)\n",
        "decoded_sentence = decode_sequence(input_seq)\n",
        "print('Input English sentence:', X_train[k:k+1].values[0])\n",
        "print('Actual Hindi Translation:', y_train[k:k+1].values[0][6:-4])\n",
        "print('Predicted Hindi Translation:', decoded_sentence[:-4])"
      ],
      "execution_count": 0,
      "outputs": [
        {
          "output_type": "stream",
          "text": [
            "Input English sentence: well have a model for the rest of language\n",
            "Actual Hindi Translation:  हमारे पास बाकि भषा के लिए मापद्न्ड होगा \n",
            "Predicted Hindi Translation:  तो हमारे पास अच्छी माँ का उपयोग हो सकता है \n"
          ],
          "name": "stdout"
        }
      ]
    }
  ]
}